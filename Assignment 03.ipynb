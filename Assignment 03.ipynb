{
 "cells": [
  {
   "cell_type": "markdown",
   "id": "a2dace4d-9f18-4e48-ac4d-c74c4c504bfb",
   "metadata": {},
   "source": [
    "# Assignment 03\n",
    "\n",
    "**Name:** **Radin Dinsara Gunarathne**\n",
    "\n",
    "Date : 2/15/2025"
   ]
  },
  {
   "cell_type": "markdown",
   "id": "724e27b3-f9d4-4e23-86b1-b4ddc8f8a85c",
   "metadata": {},
   "source": [
    "**1.** Write a lambda expression to get the product of two numbers.<br>\n",
    "\n",
    "Run test for expression(5,6) <br>\n",
    "\n",
    "Output: 30"
   ]
  },
  {
   "cell_type": "code",
   "execution_count": 31,
   "id": "f1c1f0b6-60e4-46b8-b6ff-16195f1a3ce6",
   "metadata": {},
   "outputs": [
    {
     "name": "stdout",
     "output_type": "stream",
     "text": [
      "30\n"
     ]
    }
   ],
   "source": [
    "expression = lambda a, b: a * b\n",
    "product = expression(5,6)\n",
    "print(product)"
   ]
  },
  {
   "cell_type": "markdown",
   "id": "fbfa532c-7409-41d4-a331-24c8f9e8c628",
   "metadata": {},
   "source": [
    "**2.** Write a function to get the area of a circle from the radius.<br>\n",
    "Hint: remember to import the right modul for being able to calculte the area of the circle.<br>\n",
    "\n",
    "Run test for function(10)<br>\n",
    "Output: 314.1592653589793<br>"
   ]
  },
  {
   "cell_type": "code",
   "execution_count": 22,
   "id": "762bf8f1-3720-4504-bb8b-82294cd8cc78",
   "metadata": {},
   "outputs": [
    {
     "name": "stdout",
     "output_type": "stream",
     "text": [
      "314.1592653589793\n"
     ]
    }
   ],
   "source": [
    "#import the math modul\n",
    "import math \n",
    "#calculte the area of the circle.\n",
    "def circle_area(radius):\n",
    "    pi_value=math.pi\n",
    "    area=radius*radius*pi_value\n",
    "    print(area)\n",
    "circle_area(10)"
   ]
  },
  {
   "cell_type": "markdown",
   "id": "067569c9-156d-4d86-a0d6-814dd598558d",
   "metadata": {},
   "source": [
    "**3.** Build a simple calculator which can: add, subtract, multiply, divide.<br>\n",
    "\n",
    "Hint: solve by writing a function that takes as argument two numbers and the operation and \n",
    "returns the desired output.<br>\n",
    "\n",
    "Run test for function(2,5,’d’)<br>\n",
    "\n",
    "Output: 0.4"
   ]
  },
  {
   "cell_type": "code",
   "execution_count": 23,
   "id": "f37f79d3-66d3-4332-b90d-a1676f21d522",
   "metadata": {},
   "outputs": [
    {
     "name": "stdout",
     "output_type": "stream",
     "text": [
      "0.4\n"
     ]
    }
   ],
   "source": [
    "def calculate(num_1,num_2,operation):\n",
    "    #Addition\n",
    "    if operation == \"a\":\n",
    "        return num_1 + num_2\n",
    "    #subtract\n",
    "    elif operation == \"s\":\n",
    "        return num_1 - num_2\n",
    "    #multiply\n",
    "    elif operation == \"m\":\n",
    "        return num_1 * num_2\n",
    "    #divide\n",
    "    elif operation == \"d\":\n",
    "        return num_1 / num_2\n",
    "    else:\n",
    "        return \"Please enter valid two numbers!\"\n",
    "\n",
    "answer = calculate(2,5,\"d\")\n",
    "print(answer)\n",
    "    "
   ]
  },
  {
   "cell_type": "markdown",
   "id": "c37d1f1f-48bf-4abd-8b44-2533622586dd",
   "metadata": {},
   "source": [
    "**4.** Define a class named Rectangle which can be constructed by a length and width.<br>\n",
    "The Rectangle class has a method which can compute the area.<br>\n",
    "\n",
    "Run test for \n",
    "\n",
    "                 r = Rectangle(5,10)\n",
    "                 r.area()\n",
    "\n",
    " Output: 50"
   ]
  },
  {
   "cell_type": "code",
   "execution_count": 24,
   "id": "274e74bf-e8b4-4832-ae87-5eb13fbe981b",
   "metadata": {},
   "outputs": [
    {
     "name": "stdout",
     "output_type": "stream",
     "text": [
      "50\n"
     ]
    }
   ],
   "source": [
    "#Define a class named Rectangle \n",
    "class Rectangle:\n",
    "    def __init__(self, length, width):\n",
    "        self.length = length\n",
    "        self.width = width\n",
    "\n",
    "    #compute the area\n",
    "    def area(self):\n",
    "        calculate_area = self.length * self.width\n",
    "        print(calculate_area)\n",
    "r = Rectangle(5, 10)\n",
    "r.area()"
   ]
  },
  {
   "cell_type": "markdown",
   "id": "f8f39ce2-446d-4efa-b25f-dec44b0b921e",
   "metadata": {},
   "source": [
    "**5.** Define a class named Shape and its subclass Square.<br>\n",
    "\n",
    "Shape objects can be consrtucted by name and length has an area function wich return 0<br>\n",
    "\n",
    "Square subclass has an init function which take a length and name as argument and has an\n",
    "area method and a describe method what prints the name of the Shape.<br>\n",
    "\n",
    "Print the area from Square class.<br>\n",
    "\n",
    "Run test for: \n",
    "\n",
    "             s = Square('square',5)\n",
    "             print(s.area())\n",
    "             print(s.describe())\n",
    "\n",
    "Output: The area is:<br> \n",
    "\n",
    "            25\n",
    "            \n",
    "        This is a: square"
   ]
  },
  {
   "cell_type": "code",
   "execution_count": 30,
   "id": "c77c3997-9f86-4112-8199-2c2a2c991d34",
   "metadata": {},
   "outputs": [
    {
     "name": "stdout",
     "output_type": "stream",
     "text": [
      "The area is: \n",
      "25\n",
      "This is a: square\n"
     ]
    }
   ],
   "source": [
    "#Define a class named Shape\n",
    "class Shape:\n",
    "    def __init__(self,name,length):\n",
    "        self.name = name\n",
    "        self.length = length\n",
    "    def area(self):\n",
    "        return 0\n",
    "        \n",
    "#Define a subclass named Square.\n",
    "class Square(Shape):\n",
    "    def __init__ (self,name,length):\n",
    "        super().__init__(name, length)\n",
    "    def area(self):\n",
    "        square_area = self.length ** 2 \n",
    "        return f\"The area is: \\n{square_area}\"\n",
    "    def describe(self):\n",
    "        return f\"This is a: {self.name}\"\n",
    "        \n",
    "#test\n",
    "s = Square('square', 5)\n",
    "print(s.area())\n",
    "print(s.describe())   "
   ]
  }
 ],
 "metadata": {
  "kernelspec": {
   "display_name": "Python 3 (ipykernel)",
   "language": "python",
   "name": "python3"
  },
  "language_info": {
   "codemirror_mode": {
    "name": "ipython",
    "version": 3
   },
   "file_extension": ".py",
   "mimetype": "text/x-python",
   "name": "python",
   "nbconvert_exporter": "python",
   "pygments_lexer": "ipython3",
   "version": "3.12.7"
  }
 },
 "nbformat": 4,
 "nbformat_minor": 5
}
